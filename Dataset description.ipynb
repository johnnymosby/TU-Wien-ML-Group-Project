{
 "cells": [
  {
   "cell_type": "code",
   "execution_count": null,
   "metadata": {},
   "outputs": [
    {
     "ename": "",
     "evalue": "",
     "output_type": "error",
     "traceback": [
      "\u001b[1;31mRunning cells with 'Python 3.12.6' requires the ipykernel package.\n",
      "\u001b[1;31mRun the following command to install 'ipykernel' into the Python environment. \n",
      "\u001b[1;31mCommand: '/Users/johnnymosby/.brew/bin/python3 -m pip install ipykernel -U --user --force-reinstall'"
     ]
    }
   ],
   "source": [
    "import pandas as pd\n",
    "from scipy.io import arff\n",
    "import matplotlib.pyplot as plt\n",
    "import seaborn as sns\n",
    "\n",
    "rain_dataset = pd.read_csv(\"rain.csv\")\n",
    "salaries_dataset = arff.loadarff(\"salaries.arff\")"
   ]
  },
  {
   "cell_type": "markdown",
   "metadata": {},
   "source": [
    "# Dataset Description Report\n",
    "\n",
    "## Group Members\n",
    "- Basyrov Ruslan\n",
    "- Bembeeva Iana\n",
    "- Grigorashchenko Ekaterina\n",
    "\n",
    "## Introduction\n",
    "This report provides a detailed description of two datasets used for analysis: a weather dataset predicting rainfall and a salary dataset. Each dataset's characteristics, attributes, and significance are discussed.\n"
   ]
  },
  {
   "cell_type": "markdown",
   "metadata": {},
   "source": [
    "## Dataset 1: Weather Observations Dataset\n",
    "\n",
    "### Context\n",
    "The first dataset comprises daily weather observations collected over approximately ten years from various locations across Australia. This dataset enables the prediction of next-day rain, answering the crucial question of whether to carry an umbrella.\n",
    "\n",
    "### Characteristics\n",
    "- **Samples**: Approximately 10 years of daily observations (exact count of samples may vary).\n",
    "- **Attributes**: 22 attributes, including both numerical and categorical types.\n",
    "\n",
    "### Attribute Types and Unique Values\n",
    "| Attribute          | Type     | Unique Values | Missing Values | Description                                                  |\n",
    "|--------------------|----------|---------------|----------------|--------------------------------------------------------------|\n",
    "| Date               | Ordinal   | 3436          | 0              | The date of observation.                                     |\n",
    "| Location           | Nominal   | 49            | 0              | The name of the weather station location.                   |\n",
    "| MinTemp            | Ratio    | 389           | 1485           | Minimum temperature in degrees Celsius.                      |\n",
    "| MaxTemp            | Ratio    | 505           | 1261           | Maximum temperature in degrees Celsius.                      |\n",
    "| Rainfall           | Ratio    | 681           | 3261           | Amount of rainfall recorded for the day in mm.              |\n",
    "| Evaporation        | Ratio    | 358           | 62790          | Class A pan evaporation (mm) in the 24 hours to 9am.       |\n",
    "| Sunshine           | Ratio    | 145           | 69835          | Number of hours of bright sunshine in the day.              |\n",
    "| WindGustDir        | Nominal   | 16            | 10326          | Direction of the strongest wind gust in the last 24 hours.  |\n",
    "| WindGustSpeed      | Ratio    | 67            | 10263          | Speed (km/h) of the strongest wind gust in the last 24 hours. |\n",
    "| WindDir9am         | Nominal   | 16            | 10566          | Direction of the wind at 9am.                               |\n",
    "| WindDir3pm         | Nominal   | 16            | 4228           | Direction of the wind at 3pm.                               |\n",
    "| WindSpeed9am       | Ratio    | 43            | 1767           | Wind speed (km/h) averaged over 10 minutes prior to 9am.   |\n",
    "| WindSpeed3pm       | Ratio    | 44            | 3062           | Wind speed (km/h) averaged over 10 minutes prior to 3pm.   |\n",
    "| Humidity9am        | Ratio    | 101           | 2654           | Humidity (percent) at 9am.                                  |\n",
    "| Humidity3pm        | Ratio    | 101           | 4507           | Humidity (percent) at 3pm.                                  |\n",
    "| Pressure9am        | Ratio    | 546           | 15065          | Atmospheric pressure (hPa) at 9am.                          |\n",
    "| Pressure3pm        | Ratio    | 549           | 15028          | Atmospheric pressure (hPa) at 3pm.                          |\n",
    "| Cloud9am           | Ratio    | 10            | 55888          | Fraction of sky obscured by cloud at 9am (in oktas).        |\n",
    "| Cloud3pm           | Ratio    | 10            | 1767           | Fraction of sky obscured by cloud at 3pm (in oktas).        |\n",
    "| Temp9am            | Ratio    | 441           | 3609           | Temperature (degrees C) at 9am.                             |\n",
    "| Temp3pm            | Ratio    | 502           | 1485           | Temperature (degrees C) at 3pm.                             |\n",
    "| RainToday          | Nominal   | 2             | 3261           | Yes if precipitation (mm) exceeds 1mm, otherwise No. |\n",
    "| RainTomorrow       | Nominal   | 2             | 3267           | Indicates whether it will rain tomorrow (Yes/No).           |\n",
    "\n",
    "\n",
    "### Comments on Reformatting\n",
    "- **Date**: Should be reformatted to `datetime` for better handling in time series analysis.\n",
    "\n",
    "\n",
    "### Target Attribute\n",
    "- **RainTomorrow**: This binary attribute indicates whether it will rain the following day (Yes/No). It is crucial for predicting weather patterns and making informed decisions.\n",
    "\n",
    "### Importance of Dataset\n",
    "Understanding the distribution of values in attributes helps in preprocessing steps, such as handling missing values and feature selection, to build accurate predictive models."
   ]
  },
  {
   "cell_type": "code",
   "execution_count": null,
   "metadata": {},
   "outputs": [],
   "source": [
    "# Path to the CSV file with dataset\n",
    "file_path = \"rain.csv\"\n",
    "\n",
    "# Read the CSV file into a pandas DataFrame\n",
    "df_rain = pd.read_csv('file_path')\n",
    "\n",
    "# Display the first few rows of the DataFrame\n",
    "df_rain.head()"
   ]
  },
  {
   "cell_type": "markdown",
   "metadata": {},
   "source": [
    "### Dataset visualizations\n",
    "1. **Distribution of RainTomorrow** - understanding the balance between classes"
   ]
  },
  {
   "cell_type": "code",
   "execution_count": null,
   "metadata": {},
   "outputs": [],
   "source": [
    "plt.figure(figsize=(8, 5))\n",
    "sns.countplot(data=df_rain, x='RainTomorrow', palette='pastel')\n",
    "plt.title('Distribution of RainTomorrow')\n",
    "plt.xlabel('Rain Tomorrow (Yes/No)')\n",
    "plt.ylabel('Count')\n",
    "plt.show()"
   ]
  },
  {
   "cell_type": "markdown",
   "metadata": {},
   "source": [
    "2. **Histograms of Numeric Attributes**"
   ]
  },
  {
   "cell_type": "code",
   "execution_count": null,
   "metadata": {},
   "outputs": [],
   "source": [
    "# List of numeric attributes in the weather dataset\n",
    "numeric_attributes_weather = [\n",
    "    'MinTemp', 'MaxTemp', 'Rainfall', 'Evaporation',\n",
    "    'Sunshine', 'WindGustSpeed', 'WindSpeed9am', \n",
    "    'WindSpeed3pm', 'Humidity9am', 'Humidity3pm', \n",
    "    'Pressure9am', 'Pressure3pm', 'Temp9am', 'Temp3pm'\n",
    "]\n",
    "\n",
    "plt.figure(figsize=(15, 10))\n",
    "for i, attr in enumerate(numeric_attributes_weather):\n",
    "    plt.subplot(4, 4, i + 1)\n",
    "    sns.histplot(df_rain[attr], bins=30, kde=True)\n",
    "    plt.title(f'Distribution of {attr}')\n",
    "    plt.xlabel(attr)\n",
    "    plt.ylabel('Frequency')\n",
    "\n",
    "plt.tight_layout()\n",
    "plt.show()"
   ]
  },
  {
   "cell_type": "markdown",
   "metadata": {},
   "source": [
    "---\n",
    "\n",
    "## Dataset 2: Employee Salary Dataset\n",
    "\n",
    "### Context\n",
    "The second dataset provides annual salary information, including gross and overtime pay, for all active, permanent employees of Montgomery County, MD, for the calendar year 2016. This data is essential for analyzing salary distribution and identifying trends in employee compensation.\n",
    "\n",
    "### Characteristics\n",
    "- **Samples**: 9222 employee records\n",
    "- **Attributes**: 10 attributes with a mix of numeric and categorical types.\n",
    "\n",
    "### Attribute Types and Unique Values\n",
    "| Attribute                    | Type     | Unique Values | Missing Values | Description                                                  |\n",
    "|------------------------------|----------|---------------|----------------|--------------------------------------------------------------|\n",
    "| full_name                    | Nominal   | 9222          | 0              | Employee's full name.                                       |\n",
    "| gender                       | Nominal  | 2             | 17             | Employee's gender (F, M).                                   |\n",
    "| current_annual_salary        | Ratio  | 3403          | 0              | Employee's current annual salary in USD.                    |\n",
    "| 2016_gross_pay_received      | Ratio  | 8977          | 100            | Total gross pay received in 2016.                           |\n",
    "| 2016_overtime_pay            | Ratio  | 6176          | 2917           | Total overtime pay received in 2016.                        |\n",
    "| department                   | Nominal  | 37            | 0              | Department of the employee.                                  |\n",
    "| department_name              | Nominal  | 37            | 0              | Full name of the department.                                 |\n",
    "| division                     | Nominal   | 694           | 0            | Division of the employee within the department.             |\n",
    "| assignment_category           | Nominal  | 2             | 0            | Employment category (Fulltime-Regular, Parttime-Regular).   |\n",
    "| employee_position_title      | Nominal   | 385           | 0            | Job title of the employee.                                   |\n",
    "| underfilled_job_title        | Nominal   | 84            | 0            | Job title of the position being underfilled, if applicable. |\n",
    "| date_first_hired            | Ordinal   | 2264          | 0            | Date the employee was first hired.                           |\n",
    "| year_first_hired             | Ordinal  | 51            | 0            | Year the employee was first hired.                           |\n",
    "\n",
    "### Target Attribute\n",
    "- **current_annual_salary**: The primary target attribute used for salary analysis and modeling. Understanding its distribution is crucial for various analyses, including equity and budgeting.\n",
    "\n",
    "### Comments on Reformatting\n",
    "- **date_first_hired**: Should be reformatted to `datetime` for better handling in time analysis.\n",
    "\n",
    "### Importance of Dataset\n",
    "The distribution of numeric values in the salary dataset provides insight into compensation trends, while the categorical data (such as gender and department) allows for analyzing disparities and ensuring equitable pay practices.\n"
   ]
  },
  {
   "cell_type": "code",
   "execution_count": null,
   "metadata": {},
   "outputs": [],
   "source": [
    "# Path to ARFF file with dataset\n",
    "file_path = 'salaries.arff'  # Adjust the path if needed\n",
    "\n",
    "# Load the ARFF file using liac-arff\n",
    "with open(file_path, 'r') as file:\n",
    "    dataset = arff.load(file)\n",
    "\n",
    "# Extract data and column names (attributes) from the ARFF file\n",
    "df_salaries = pd.DataFrame(dataset['data'], columns=[attr[0] for attr in dataset['attributes']])\n",
    "\n",
    "# Display the first few rows of the DataFrame\n",
    "df_salaries.head()"
   ]
  },
  {
   "cell_type": "markdown",
   "metadata": {},
   "source": [
    "### Dataset visualizations\n",
    "1. **Distribution of Current Annual Salary** - analyzing salary ranges and identifying any outliers"
   ]
  },
  {
   "cell_type": "code",
   "execution_count": null,
   "metadata": {},
   "outputs": [],
   "source": [
    "plt.figure(figsize=(10, 6))\n",
    "sns.histplot(df_salaries['current_annual_salary'], bins=30, kde=True, color='skyblue')\n",
    "plt.title('Distribution of Current Annual Salary')\n",
    "plt.xlabel('Current Annual Salary')\n",
    "plt.ylabel('Frequency')\n",
    "plt.show()"
   ]
  },
  {
   "cell_type": "markdown",
   "metadata": {},
   "source": [
    "2. **Histograms of Numeric Attributes**"
   ]
  },
  {
   "cell_type": "code",
   "execution_count": null,
   "metadata": {},
   "outputs": [],
   "source": [
    "# Gender\n",
    "plt.figure(figsize=(8, 6))\n",
    "sns.countplot(data=df_salaries, x='gender', palette='pastel')\n",
    "plt.title('Distribution of Gender')\n",
    "plt.xlabel('Gender')\n",
    "plt.ylabel('Count')\n",
    "plt.xticks(rotation=45)\n",
    "plt.show()"
   ]
  },
  {
   "cell_type": "code",
   "execution_count": null,
   "metadata": {},
   "outputs": [],
   "source": [
    "# Department\n",
    "plt.figure(figsize=(10, 6))\n",
    "sns.countplot(data=df_salaries, x='department', palette='pastel')\n",
    "plt.title('Distribution of Departments')\n",
    "plt.xlabel('Department')\n",
    "plt.ylabel('Count')\n",
    "plt.xticks(rotation=45)\n",
    "plt.show()"
   ]
  },
  {
   "cell_type": "code",
   "execution_count": null,
   "metadata": {},
   "outputs": [],
   "source": [
    "# Assignment Category\n",
    "plt.figure(figsize=(8, 6))\n",
    "sns.countplot(data=df_salaries, x='assignment_category', palette='pastel')\n",
    "plt.title('Distribution of Assignment Categories')\n",
    "plt.xlabel('Assignment Category')\n",
    "plt.ylabel('Count')\n",
    "plt.xticks(rotation=45)\n",
    "plt.show()"
   ]
  },
  {
   "cell_type": "markdown",
   "metadata": {},
   "source": [
    "---\n",
    "\n",
    "## Conclusion\n",
    "Both datasets offer valuable insights into weather prediction and employee compensation. By understanding their characteristics, distributions, and the significance of attributes, we can apply appropriate data preprocessing techniques and build effective predictive models."
   ]
  }
 ],
 "metadata": {
  "kernelspec": {
   "display_name": "Python 3",
   "language": "python",
   "name": "python3"
  },
  "language_info": {
   "codemirror_mode": {
    "name": "ipython",
    "version": 3
   },
   "file_extension": ".py",
   "mimetype": "text/x-python",
   "name": "python",
   "nbconvert_exporter": "python",
   "pygments_lexer": "ipython3",
   "version": "3.12.6"
  }
 },
 "nbformat": 4,
 "nbformat_minor": 2
}
